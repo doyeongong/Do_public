{
 "cells": [
  {
   "cell_type": "markdown",
   "id": "61b85eb8",
   "metadata": {},
   "source": [
    "# US\n",
    "\n",
    "STATA에서 step01과 step03을 거친이후에 가능"
   ]
  },
  {
   "cell_type": "code",
   "execution_count": 35,
   "id": "0ae90072",
   "metadata": {},
   "outputs": [],
   "source": [
    "using Plots, CSV, DataFrames, XLSX"
   ]
  },
  {
   "cell_type": "code",
   "execution_count": 38,
   "id": "fe32d20b",
   "metadata": {},
   "outputs": [
    {
     "data": {
      "text/plain": [
       "291×7 Matrix{Any}:\n",
       " 100      100      100      100      100      100      100\n",
       " 100.795  100.606  100.427  100.585  100.669  100.705  100.834\n",
       " 101.305  101.334  101.463  101.462  101.227  101.175  101.668\n",
       " 101.305  101.273  101.584  101.579  101.171  100.999  101.608\n",
       " 101.249  101.577  101.584  101.754  101.171  102.056  101.906\n",
       " 101.589  102.911  102.072  101.93   101.506  103.408  101.846\n",
       " 102.043  102.365  102.377  102.456  101.952  102.585  102.263\n",
       " 102.1    102.001  102.377  102.865  102.119  102.056  102.561\n",
       " 102.554  103.093  102.681  103.275  102.844  102.703  103.216\n",
       " 102.838  103.153  102.681  103.626  102.956  103.055  103.514\n",
       " 103.008  103.275  102.742  103.626  102.956  103.408  103.335\n",
       " 102.894  103.214  102.62   103.567  102.733  103.29   103.335\n",
       " 103.405  104.245  103.169  104.269  103.123  104.642  103.752\n",
       "   ⋮                                            ⋮      \n",
       " 176.985  170.968  179.96   188.413  178.032  165.936  190.643\n",
       " 177.208  171.411  180.31   189.196  178.473  166.519  190.896\n",
       " 177.826  172.069  180.859  189.736  179.191  166.643  191.814\n",
       " 178.179  172.614  181.157  189.98   179.864  166.585  191.74\n",
       " 179.024  172.906  182.191  190.78   180.915  166.837  193.002\n",
       " 179.553  172.999  182.606  191.515  181.602  167.083  193.558\n",
       " 179.512  172.82   182.446  191.642  181.421  167.574  193.297\n",
       " 179.485  172.552  182.163  190.818  180.993  166.78   192.58\n",
       " 179.423  172.17   182.056  190.604  181.088  166.722  192.648\n",
       " 180.552  172.669  183.072  191.844  182.937  168.051  194.544\n",
       " 181.372  173.648  184.731  192.596  183.272  168.857  195.493\n",
       " 182.6    174.834  185.551  194.27   183.954  169.841  196.945"
      ]
     },
     "execution_count": 38,
     "metadata": {},
     "output_type": "execute_result"
    }
   ],
   "source": [
    "# 데이터 로드\n",
    "OMPS = CSV.read(\"OMPS.csv\", DataFrame)\n",
    "OMPS = OMPS[:, 2]\n",
    "\n",
    "HP_data = CSV.read(\"Zillow.csv\", DataFrame, header=true)\n",
    "CPI_data = XLSX.readdata(\"BLS_CPI_MSA.xlsx\", \"CPI\", \"B3:H293\");"
   ]
  },
  {
   "cell_type": "code",
   "execution_count": 64,
   "id": "e5911555",
   "metadata": {},
   "outputs": [],
   "source": [
    "# metro 별 분석\n",
    "\n",
    "filtered_data = HP_data[HP_data.metro_id .== 17, :]\n",
    "\n",
    "# Local Projection\n",
    "# 매개변수 설정\n",
    "H = 40\n",
    "M = 12\n",
    "I = 2\n",
    "MPS_start = 157;\n",
    "\n",
    "# 2001m2~2019m12\n",
    "S = OMPS[MPS_start:end] \n",
    "N_s = length(S)\n",
    "# 2000m1~2024m2\n",
    "metro_data = filtered_data[:,4]\n",
    "N = 291\n",
    "metro_data = reshape(metro_data, N,:)\n",
    "~, K = size(metro_data)\n",
    "\n",
    "# deflate\n",
    "def_data = zeros(N,K)\n",
    "for k=1:K\n",
    "    def_data[:,k] = log.(metro_data[:,k]).-log.(CPI_data[:,4])\n",
    "end\n",
    "\n",
    "\n",
    "start_idx = 14; # 2001m2\n",
    "\n",
    "# shock variables\n",
    "if I!=0\n",
    "    S_lag = zeros(N_s,I)\n",
    "    Threads.@threads for i=1:I\n",
    "        S_lag[:,i]= OMPS[MPS_start-i:end-i]\n",
    "    end\n",
    "end\n",
    "\n",
    "b_h = zeros(H+1, K);\n",
    "Threads.@threads for k=1:K\n",
    "    Y_lag = zeros(N_s,M)\n",
    "    for m=1:M\n",
    "        Y_lag[:,m]=def_data[start_idx-m:(start_idx+N_s-1)-m,k] - def_data[start_idx-m-1:(start_idx+N_s-1)-m-1,k]\n",
    "    end\n",
    "    if I!=0\n",
    "        X = [S S_lag Y_lag ones(N_s,1)]\n",
    "    else\n",
    "        X = [S Y_lag ones(N_s,1)]\n",
    "    end\n",
    "    sample_num, explain_num = size(X)\n",
    "    df = sample_num-explain_num\n",
    "    \n",
    "    Threads.@threads for h=0:H\n",
    "        \n",
    "        # regression\n",
    "        dep = def_data[start_idx+h:(start_idx+N_s-1)+h,k]-def_data[start_idx-1:(start_idx+N_s-1)-1,k]\n",
    "        beta = (X'*X) \\ (X'*dep)\n",
    "        e = dep - X*beta\n",
    "        \n",
    "        # save\n",
    "        b_h[h+1,k] = beta[1]\n",
    "    end\n",
    "end"
   ]
  },
  {
   "cell_type": "code",
   "execution_count": 63,
   "id": "51103234",
   "metadata": {},
   "outputs": [],
   "source": []
  },
  {
   "cell_type": "code",
   "execution_count": null,
   "id": "be50f556",
   "metadata": {},
   "outputs": [],
   "source": []
  }
 ],
 "metadata": {
  "kernelspec": {
   "display_name": "Julia 1.10.2",
   "language": "julia",
   "name": "julia-1.10"
  },
  "language_info": {
   "file_extension": ".jl",
   "mimetype": "application/julia",
   "name": "julia",
   "version": "1.10.2"
  }
 },
 "nbformat": 4,
 "nbformat_minor": 5
}
