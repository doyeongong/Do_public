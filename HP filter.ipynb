{
 "cells": [
  {
   "cell_type": "markdown",
   "id": "47b523d8",
   "metadata": {},
   "source": [
    "# HP filter"
   ]
  },
  {
   "cell_type": "code",
   "execution_count": 40,
   "id": "fab922c7",
   "metadata": {},
   "outputs": [],
   "source": [
    "import numpy as np\n",
    "from scipy.linalg import inv\n",
    "import pandas as pd\n",
    "%matplotlib inline\n",
    "import matplotlib.pyplot as plt\n",
    "plt.rcParams[\"figure.figsize\"]=(12,8)\n",
    "plt.rcParams['lines.linewidth'] = 2"
   ]
  },
  {
   "cell_type": "code",
   "execution_count": 23,
   "id": "8b812b69",
   "metadata": {},
   "outputs": [],
   "source": [
    "# HP filter function\n",
    "\n",
    "def HPfilter(Y, λ):\n",
    "    \"\"\"\n",
    "    Hodrick-Prescott filter. λ is a smooth parameter.\n",
    "    Y can be a matrix\n",
    "    \"\"\"\n",
    "    T=len(Y)\n",
    "    K=np.eye(N=T-2,M=T,k=0)+(-2)*np.eye(N=T-2,M=T,k=1)+np.eye(N=T-2,M=T,k=2)\n",
    "    I=np.identity(T)\n",
    "    trend=inv(I+λ*(K.T)@K) @ Y\n",
    "    output_gap=(Y-trend)/trend\n",
    "    \n",
    "    return trend, output_gap"
   ]
  },
  {
   "cell_type": "code",
   "execution_count": 32,
   "id": "a9591299",
   "metadata": {},
   "outputs": [],
   "source": [
    "data = pd.read_excel('US_data_py.xlsx', index_col=0, sheet_name='data')"
   ]
  },
  {
   "cell_type": "code",
   "execution_count": 33,
   "id": "e283c8e9",
   "metadata": {},
   "outputs": [
    {
     "data": {
      "text/html": [
       "<div>\n",
       "<style scoped>\n",
       "    .dataframe tbody tr th:only-of-type {\n",
       "        vertical-align: middle;\n",
       "    }\n",
       "\n",
       "    .dataframe tbody tr th {\n",
       "        vertical-align: top;\n",
       "    }\n",
       "\n",
       "    .dataframe thead th {\n",
       "        text-align: right;\n",
       "    }\n",
       "</style>\n",
       "<table border=\"1\" class=\"dataframe\">\n",
       "  <thead>\n",
       "    <tr style=\"text-align: right;\">\n",
       "      <th></th>\n",
       "      <th>Period</th>\n",
       "      <th>output</th>\n",
       "      <th>consumption</th>\n",
       "      <th>investment</th>\n",
       "      <th>hours worked</th>\n",
       "      <th>employment</th>\n",
       "      <th>avg weekly hours</th>\n",
       "      <th>output per hour</th>\n",
       "    </tr>\n",
       "    <tr>\n",
       "      <th>Year</th>\n",
       "      <th></th>\n",
       "      <th></th>\n",
       "      <th></th>\n",
       "      <th></th>\n",
       "      <th></th>\n",
       "      <th></th>\n",
       "      <th></th>\n",
       "      <th></th>\n",
       "    </tr>\n",
       "  </thead>\n",
       "  <tbody>\n",
       "    <tr>\n",
       "      <th>1961</th>\n",
       "      <td>Q01</td>\n",
       "      <td>3255.9</td>\n",
       "      <td>2064.441922</td>\n",
       "      <td>344.502789</td>\n",
       "      <td>56.023</td>\n",
       "      <td>49.716</td>\n",
       "      <td>112.685</td>\n",
       "      <td>31.029</td>\n",
       "    </tr>\n",
       "    <tr>\n",
       "      <th>1961</th>\n",
       "      <td>Q02</td>\n",
       "      <td>3311.2</td>\n",
       "      <td>2093.753658</td>\n",
       "      <td>350.165009</td>\n",
       "      <td>55.379</td>\n",
       "      <td>49.417</td>\n",
       "      <td>112.064</td>\n",
       "      <td>32.030</td>\n",
       "    </tr>\n",
       "    <tr>\n",
       "      <th>1961</th>\n",
       "      <td>Q03</td>\n",
       "      <td>3374.7</td>\n",
       "      <td>2098.377514</td>\n",
       "      <td>358.556319</td>\n",
       "      <td>55.774</td>\n",
       "      <td>49.603</td>\n",
       "      <td>112.441</td>\n",
       "      <td>32.476</td>\n",
       "    </tr>\n",
       "    <tr>\n",
       "      <th>1961</th>\n",
       "      <td>Q04</td>\n",
       "      <td>3440.9</td>\n",
       "      <td>2132.631586</td>\n",
       "      <td>369.880761</td>\n",
       "      <td>56.319</td>\n",
       "      <td>49.925</td>\n",
       "      <td>112.809</td>\n",
       "      <td>32.786</td>\n",
       "    </tr>\n",
       "    <tr>\n",
       "      <th>1962</th>\n",
       "      <td>Q01</td>\n",
       "      <td>3502.3</td>\n",
       "      <td>2151.832199</td>\n",
       "      <td>376.971290</td>\n",
       "      <td>56.899</td>\n",
       "      <td>50.364</td>\n",
       "      <td>112.976</td>\n",
       "      <td>33.097</td>\n",
       "    </tr>\n",
       "    <tr>\n",
       "      <th>...</th>\n",
       "      <td>...</td>\n",
       "      <td>...</td>\n",
       "      <td>...</td>\n",
       "      <td>...</td>\n",
       "      <td>...</td>\n",
       "      <td>...</td>\n",
       "      <td>...</td>\n",
       "      <td>...</td>\n",
       "    </tr>\n",
       "    <tr>\n",
       "      <th>2019</th>\n",
       "      <td>Q04</td>\n",
       "      <td>19215.7</td>\n",
       "      <td>11493.200000</td>\n",
       "      <td>3425.700000</td>\n",
       "      <td>112.870</td>\n",
       "      <td>113.900</td>\n",
       "      <td>99.096</td>\n",
       "      <td>108.379</td>\n",
       "    </tr>\n",
       "    <tr>\n",
       "      <th>2020</th>\n",
       "      <td>Q01</td>\n",
       "      <td>18989.9</td>\n",
       "      <td>11344.200000</td>\n",
       "      <td>3399.500000</td>\n",
       "      <td>111.405</td>\n",
       "      <td>112.911</td>\n",
       "      <td>98.666</td>\n",
       "      <td>107.883</td>\n",
       "    </tr>\n",
       "    <tr>\n",
       "      <th>2020</th>\n",
       "      <td>Q02</td>\n",
       "      <td>17378.7</td>\n",
       "      <td>10208.600000</td>\n",
       "      <td>3121.300000</td>\n",
       "      <td>97.152</td>\n",
       "      <td>99.099</td>\n",
       "      <td>98.035</td>\n",
       "      <td>110.305</td>\n",
       "    </tr>\n",
       "    <tr>\n",
       "      <th>2020</th>\n",
       "      <td>Q03</td>\n",
       "      <td>18743.7</td>\n",
       "      <td>11027.100000</td>\n",
       "      <td>3327.400000</td>\n",
       "      <td>104.694</td>\n",
       "      <td>105.358</td>\n",
       "      <td>99.370</td>\n",
       "      <td>112.263</td>\n",
       "    </tr>\n",
       "    <tr>\n",
       "      <th>2020</th>\n",
       "      <td>Q04</td>\n",
       "      <td>18924.3</td>\n",
       "      <td>11139.000000</td>\n",
       "      <td>3459.200000</td>\n",
       "      <td>107.176</td>\n",
       "      <td>107.184</td>\n",
       "      <td>99.992</td>\n",
       "      <td>111.293</td>\n",
       "    </tr>\n",
       "  </tbody>\n",
       "</table>\n",
       "<p>240 rows × 8 columns</p>\n",
       "</div>"
      ],
      "text/plain": [
       "     Period   output   consumption   investment  hours worked  employment  \\\n",
       "Year                                                                        \n",
       "1961    Q01   3255.9   2064.441922   344.502789        56.023      49.716   \n",
       "1961    Q02   3311.2   2093.753658   350.165009        55.379      49.417   \n",
       "1961    Q03   3374.7   2098.377514   358.556319        55.774      49.603   \n",
       "1961    Q04   3440.9   2132.631586   369.880761        56.319      49.925   \n",
       "1962    Q01   3502.3   2151.832199   376.971290        56.899      50.364   \n",
       "...     ...      ...           ...          ...           ...         ...   \n",
       "2019    Q04  19215.7  11493.200000  3425.700000       112.870     113.900   \n",
       "2020    Q01  18989.9  11344.200000  3399.500000       111.405     112.911   \n",
       "2020    Q02  17378.7  10208.600000  3121.300000        97.152      99.099   \n",
       "2020    Q03  18743.7  11027.100000  3327.400000       104.694     105.358   \n",
       "2020    Q04  18924.3  11139.000000  3459.200000       107.176     107.184   \n",
       "\n",
       "      avg weekly hours  output per hour  \n",
       "Year                                     \n",
       "1961           112.685           31.029  \n",
       "1961           112.064           32.030  \n",
       "1961           112.441           32.476  \n",
       "1961           112.809           32.786  \n",
       "1962           112.976           33.097  \n",
       "...                ...              ...  \n",
       "2019            99.096          108.379  \n",
       "2020            98.666          107.883  \n",
       "2020            98.035          110.305  \n",
       "2020            99.370          112.263  \n",
       "2020            99.992          111.293  \n",
       "\n",
       "[240 rows x 8 columns]"
      ]
     },
     "execution_count": 33,
     "metadata": {},
     "output_type": "execute_result"
    }
   ],
   "source": [
    "data"
   ]
  },
  {
   "cell_type": "code",
   "execution_count": 34,
   "id": "943a1745",
   "metadata": {},
   "outputs": [],
   "source": [
    "Y=np.array(data)"
   ]
  },
  {
   "cell_type": "code",
   "execution_count": 35,
   "id": "36c45d8c",
   "metadata": {},
   "outputs": [],
   "source": [
    "Y1=Y[:,1:]"
   ]
  },
  {
   "cell_type": "code",
   "execution_count": 36,
   "id": "b6a968f7",
   "metadata": {},
   "outputs": [
    {
     "data": {
      "text/plain": [
       "array([[3255.9, 2064.4419220000004, 344.5027885, ..., 49.716, 112.685,\n",
       "        31.029],\n",
       "       [3311.2, 2093.7536585, 350.1650095, ..., 49.417, 112.064, 32.03],\n",
       "       [3374.7, 2098.377514, 358.55631900000003, ..., 49.603, 112.441,\n",
       "        32.476],\n",
       "       ...,\n",
       "       [17378.7, 10208.6, 3121.3, ..., 99.099, 98.035, 110.305],\n",
       "       [18743.7, 11027.1, 3327.4, ..., 105.358, 99.37, 112.263],\n",
       "       [18924.3, 11139.0, 3459.2, ..., 107.184, 99.992, 111.293]],\n",
       "      dtype=object)"
      ]
     },
     "execution_count": 36,
     "metadata": {},
     "output_type": "execute_result"
    }
   ],
   "source": [
    "Y1"
   ]
  },
  {
   "cell_type": "code",
   "execution_count": 37,
   "id": "434ead92",
   "metadata": {},
   "outputs": [],
   "source": [
    "[tr, cy]=HPfilter(Y1, 1600)"
   ]
  },
  {
   "cell_type": "code",
   "execution_count": 45,
   "id": "864a0c83",
   "metadata": {},
   "outputs": [
    {
     "data": {
      "text/plain": [
       "<function matplotlib.pyplot.show(close=None, block=None)>"
      ]
     },
     "execution_count": 45,
     "metadata": {},
     "output_type": "execute_result"
    },
    {
     "data": {
      "image/png": "[encoded data removed]",
      "text/plain": [
       "<Figure size 864x576 with 1 Axes>"
      ]
     },
     "metadata": {
      "needs_background": "light"
     },
     "output_type": "display_data"
    }
   ],
   "source": [
    "# graph\n",
    "\n",
    "T=len(cy)\n",
    "time=np.linspace(0,T-1,T)\n",
    "\n",
    "plt.plot(time,cy[:,0])\n",
    "plt.axhline(0,ls='--',c='black')\n",
    "plt.show"
   ]
  },
  {
   "cell_type": "code",
   "execution_count": 47,
   "id": "604b7635",
   "metadata": {},
   "outputs": [
    {
     "data": {
      "text/plain": [
       "<function matplotlib.pyplot.show(close=None, block=None)>"
      ]
     },
     "execution_count": 47,
     "metadata": {},
     "output_type": "execute_result"
    },
    {
     "data": {
      "image/png": "[encoded data removed]",
      "text/plain": [
       "<Figure size 864x576 with 1 Axes>"
      ]
     },
     "metadata": {
      "needs_background": "light"
     },
     "output_type": "display_data"
    }
   ],
   "source": [
    "fig, ax = plt.subplots()\n",
    "ax.scatter(cy[:,3], cy[:,6])\n",
    "ax.xlim([-0.06,0.04])\n",
    "ax.xlabel\n",
    "ax.show"
   ]
  },
  {
   "cell_type": "code",
   "execution_count": null,
   "id": "890df3a1",
   "metadata": {},
   "outputs": [],
   "source": []
  }
 ],
 "metadata": {
  "kernelspec": {
   "display_name": "Python 3 (ipykernel)",
   "language": "python",
   "name": "python3"
  },
  "language_info": {
   "codemirror_mode": {
    "name": "ipython",
    "version": 3
   },
   "file_extension": ".py",
   "mimetype": "text/x-python",
   "name": "python",
   "nbconvert_exporter": "python",
   "pygments_lexer": "ipython3",
   "version": "3.8.5"
  }
 },
 "nbformat": 4,
 "nbformat_minor": 5
}
