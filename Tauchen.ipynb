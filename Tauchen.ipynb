{
 "cells": [
  {
   "cell_type": "markdown",
   "id": "7db6c210",
   "metadata": {},
   "source": [
    "# Tauchen(1986) Method\n",
    "\n",
    "AR(1) $\\rightarrow$ Markov process"
   ]
  },
  {
   "cell_type": "code",
   "execution_count": 3,
   "id": "ce6071dd",
   "metadata": {},
   "outputs": [],
   "source": [
    "import numpy as np\n",
    "from scipy.stats import norm"
   ]
  },
  {
   "cell_type": "code",
   "execution_count": 2,
   "id": "dbbb16e5",
   "metadata": {},
   "outputs": [],
   "source": [
    "def Tauchen(ρ, σ, λ=3, n=7):\n",
    "    \"\"\"\n",
    "    Tauchen(1986, EL)의 내용을 이용하여\n",
    "    AR(1) process의 1차항 계수가 ρ이고 오차항의 표준편차가 σ일때,\n",
    "    z_l= -λ*σ_z 로 설정시 n개 그리드를 형성하는 경우의 Z와 P를 생성하는 함수\n",
    "    \"\"\"\n",
    "    σ_z = np.sqrt(σ**2/(1-ρ**2))\n",
    "    z_l, z_h = -λ*σ_z, λ*σ_z\n",
    "    Z=np.linspace(z_l, z_h, n)\n",
    "    P=np.zeros((n,n))\n",
    "    \n",
    "    # m vector\n",
    "    m=np.zeros(n-1)\n",
    "    for i in range(1, n):\n",
    "        m[i-1]=(Z[i-1]+Z[i])/2\n",
    "    \n",
    "    # P matrix\n",
    "    for i in range(n):\n",
    "        for j in range(n):\n",
    "            if j==0:\n",
    "                P[i,j] = norm.cdf((m[j]-ρ*Z[i])/σ) - 0\n",
    "            elif j==n-1:\n",
    "                P[i,j] = 1- norm.cdf((m[j-1]-ρ*Z[i])/σ)\n",
    "            else:\n",
    "                P[i,j]= norm.cdf((m[j]-ρ*Z[i])/σ) - norm.cdf((m[j-1]-ρ*Z[i])/σ)\n",
    "\n",
    "    return Z, P"
   ]
  },
  {
   "cell_type": "code",
   "execution_count": 4,
   "id": "c46bb8b9",
   "metadata": {},
   "outputs": [
    {
     "data": {
      "text/plain": [
       "(array([-0.06725382,  0.06725382]),\n",
       " array([[1.0000000e+00, 0.0000000e+00],\n",
       "        [3.5112903e-20, 1.0000000e+00]]))"
      ]
     },
     "execution_count": 4,
     "metadata": {},
     "output_type": "execute_result"
    }
   ],
   "source": [
    "# test\n",
    "Tauchen(ρ=0.95, σ=0.007, λ=3, n=2)"
   ]
  }
 ],
 "metadata": {
  "kernelspec": {
   "display_name": "Python 3 (ipykernel)",
   "language": "python",
   "name": "python3"
  },
  "language_info": {
   "codemirror_mode": {
    "name": "ipython",
    "version": 3
   },
   "file_extension": ".py",
   "mimetype": "text/x-python",
   "name": "python",
   "nbconvert_exporter": "python",
   "pygments_lexer": "ipython3",
   "version": "3.8.5"
  }
 },
 "nbformat": 4,
 "nbformat_minor": 5
}
